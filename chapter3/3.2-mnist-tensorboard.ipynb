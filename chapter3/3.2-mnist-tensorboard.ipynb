{
 "cells": [
  {
   "cell_type": "code",
   "execution_count": 1,
   "metadata": {
    "pycharm": {
     "is_executing": false
    }
   },
   "outputs": [],
   "source": [
    "import torch\n",
    "import torch.nn as nn\n",
    "import torch.nn.functional as F\n",
    "import torch.optim as optim\n",
    "from torchvision import datasets, transforms\n",
    "torch.__version__\n",
    "from tensorboardX import SummaryWriter\n",
    "\n"
   ]
  },
  {
   "cell_type": "markdown",
   "metadata": {},
   "source": [
    "# 3.2  MNIST数据集手写数字识别\n",
    "\n",
    "## 3.2.1  数据集介绍\n",
    "MNIST 包括6万张28x28的训练样本，1万张测试样本，很多教程都会对它”下手”几乎成为一个 “典范”，可以说它就是计算机视觉里面的Hello World。所以我们这里也会使用MNIST来进行实战。\n",
    "\n",
    "前面在介绍卷积神经网络的时候说到过LeNet-5，LeNet-5之所以强大就是因为在当时的环境下将MNIST数据的识别率提高到了99%，这里我们也自己从头搭建一个卷积神经网络，也达到99%的准确率"
   ]
  },
  {
   "cell_type": "markdown",
   "metadata": {},
   "source": [
    "## 3.2.2 手写数字识别\n",
    "首先，我们定义一些超参数"
   ]
  },
  {
   "cell_type": "code",
   "execution_count": 2,
   "metadata": {
    "pycharm": {
     "is_executing": false
    }
   },
   "outputs": [],
   "source": [
    "BATCH_SIZE=512 #大概需要2G的显存\n",
    "EPOCHS=20 # 总共训练批次\n",
    "DEVICE = torch.device(\"cuda\" if torch.cuda.is_available() else \"cpu\") # 让torch判断是否使用GPU，建议使用GPU环境，因为会快很多"
   ]
  },
  {
   "cell_type": "markdown",
   "metadata": {},
   "source": [
    "因为Pytorch里面包含了MNIST的数据集，所以我们这里直接使用即可。\n",
    "如果第一次执行会生成data文件夹，并且需要一些时间下载，如果以前下载过就不会再次下载了\n",
    "\n",
    "由于官方已经实现了dataset，所以这里可以直接使用DataLoader来对数据进行读取"
   ]
  },
  {
   "cell_type": "code",
   "execution_count": 18,
   "metadata": {
    "pycharm": {
     "is_executing": false
    }
   },
   "outputs": [],
   "source": [
    "train_loader = torch.utils.data.DataLoader(\n",
    "        datasets.MNIST('data', train=True, download=True, \n",
    "                       transform=transforms.Compose([\n",
    "                           transforms.ToTensor(),\n",
    "                           transforms.Normalize((0.1307,), (0.3081,))\n",
    "                       ])),\n",
    "        batch_size=BATCH_SIZE, shuffle=True)"
   ]
  },
  {
   "cell_type": "markdown",
   "metadata": {},
   "source": [
    "测试集"
   ]
  },
  {
   "cell_type": "code",
   "execution_count": 19,
   "metadata": {
    "pycharm": {
     "is_executing": false
    }
   },
   "outputs": [],
   "source": [
    "test_loader = torch.utils.data.DataLoader(\n",
    "        datasets.MNIST('data', train=False, transform=transforms.Compose([\n",
    "                           transforms.ToTensor(),\n",
    "                           transforms.Normalize((0.1307,), (0.3081,))\n",
    "                       ])),\n",
    "        batch_size=BATCH_SIZE, shuffle=True)"
   ]
  },
  {
   "cell_type": "markdown",
   "metadata": {},
   "source": [
    "下面我们定义一个网络，网络包含两个卷积层，conv1和conv2，然后紧接着两个线性层作为输出，最后输出10个维度，这10个维度我们作为0-9的标识来确定识别出的是那个数字\n",
    "\n",
    "在这里建议大家将每一层的输入和输出维度都作为注释标注出来，这样后面阅读代码的会方便很多"
   ]
  },
  {
   "cell_type": "code",
   "execution_count": 20,
   "metadata": {
    "pycharm": {
     "is_executing": false
    }
   },
   "outputs": [],
   "source": [
    "class ConvNet(nn.Module):\n",
    "    def __init__(self):\n",
    "        super().__init__()\n",
    "        # 1,28x28\n",
    "        self.conv1=nn.Conv2d(1,10,5) # 10, 24x24\n",
    "        self.conv2=nn.Conv2d(10,20,3) # 128, 10x10\n",
    "        self.fc1 = nn.Linear(20*10*10,500)\n",
    "        self.fc2 = nn.Linear(500,10)\n",
    "    def forward(self,x):\n",
    "        in_size = x.size(0)\n",
    "        out = self.conv1(x) #24\n",
    "        out = F.relu(out)\n",
    "        out = F.max_pool2d(out, 2, 2)  #12\n",
    "        out = self.conv2(out) #10\n",
    "        out = F.relu(out)\n",
    "        out = out.view(in_size,-1)\n",
    "        out = self.fc1(out)\n",
    "        out = F.relu(out)\n",
    "        out = self.fc2(out)\n",
    "        out = F.log_softmax(out,dim=1)\n",
    "        return out"
   ]
  },
  {
   "cell_type": "markdown",
   "metadata": {},
   "source": [
    "我们实例化一个网络，实例化后使用.to方法将网络移动到GPU\n",
    "\n",
    "优化器我们也直接选择简单暴力的Adam"
   ]
  },
  {
   "cell_type": "code",
   "execution_count": 21,
   "metadata": {
    "pycharm": {
     "is_executing": false
    }
   },
   "outputs": [],
   "source": [
    "model = ConvNet().to(DEVICE)\n",
    "optimizer = optim.Adam(model.parameters())\n",
    "# with SummaryWriter(log_dir='./logs') as writer:\n",
    "#     writer.add_graph(model)"
   ]
  },
  {
   "cell_type": "markdown",
   "metadata": {},
   "source": [
    "下面定义一下训练的函数，我们将训练的所有操作都封装到这个函数中"
   ]
  },
  {
   "cell_type": "code",
   "execution_count": 22,
   "metadata": {
    "pycharm": {
     "is_executing": false
    }
   },
   "outputs": [],
   "source": [
    "def train(model, device, train_loader, optimizer, epoch,writer):\n",
    "    model.train()\n",
    "    for batch_idx, (data, target) in enumerate(train_loader):\n",
    "        data, target = data.to(device), target.to(device)\n",
    "        optimizer.zero_grad()\n",
    "        output = model(data)\n",
    "        loss = F.nll_loss(output, target)\n",
    "        loss.backward()\n",
    "        optimizer.step()\n",
    "        if(batch_idx+1)%30 == 0: \n",
    "            print('Train Epoch: {} [{}/{} ({:.0f}%)]\\tLoss: {:.6f}'.format(\n",
    "                epoch, batch_idx * len(data), len(train_loader.dataset),\n",
    "                100. * batch_idx / len(train_loader), loss.item()))\n",
    "        writer.add_scalar('mnist1/train',loss.item(),(batch_idx + 117 * (epoch - 1)))\n"
   ]
  },
  {
   "cell_type": "markdown",
   "metadata": {},
   "source": [
    "测试的操作也一样封装成一个函数"
   ]
  },
  {
   "cell_type": "code",
   "execution_count": 23,
   "metadata": {
    "pycharm": {
     "is_executing": true
    }
   },
   "outputs": [],
   "source": [
    "def test(model, device, test_loader,epoch,writer):\n",
    "    model.eval()\n",
    "    test_loss = 0\n",
    "    correct = 0\n",
    "    with torch.no_grad():\n",
    "        for data, target in test_loader:\n",
    "            data, target = data.to(device), target.to(device)\n",
    "            output = model(data)\n",
    "            test_loss += F.nll_loss(output, target, reduction='sum').item() # 将一批的损失相加\n",
    "            pred = output.max(1, keepdim=True)[1] # 找到概率最大的下标\n",
    "            correct += pred.eq(target.view_as(pred)).sum().item()\n",
    "\n",
    "    test_loss /= len(test_loader.dataset)\n",
    "    print('\\nTest set: Average loss: {:.4f}, Accuracy: {}/{} ({:.0f}%)\\n'.format(\n",
    "        test_loss, correct, len(test_loader.dataset),\n",
    "        100. * correct / len(test_loader.dataset)))\n",
    "    writer.add_scalar('mnist1/test',test_loss, epoch)"
   ]
  },
  {
   "cell_type": "markdown",
   "metadata": {},
   "source": [
    "下面开始训练，这里就体现出封装起来的好处了，只要写两行就可以了"
   ]
  },
  {
   "cell_type": "code",
   "execution_count": null,
   "metadata": {
    "pycharm": {
     "is_executing": false
    }
   },
   "outputs": [
    {
     "name": "stdout",
     "output_type": "stream",
     "text": [
      "Train Epoch: 1 [3712/60000 (6%)]\tLoss: 0.485897\n",
      "Train Epoch: 1 [7552/60000 (13%)]\tLoss: 0.211228\n",
      "Train Epoch: 1 [11392/60000 (19%)]\tLoss: 0.172487\n",
      "Train Epoch: 1 [15232/60000 (25%)]\tLoss: 0.136538\n",
      "Train Epoch: 1 [19072/60000 (32%)]\tLoss: 0.144770\n",
      "Train Epoch: 1 [22912/60000 (38%)]\tLoss: 0.109054\n",
      "Train Epoch: 1 [26752/60000 (45%)]\tLoss: 0.108579\n",
      "Train Epoch: 1 [30592/60000 (51%)]\tLoss: 0.059247\n",
      "Train Epoch: 1 [34432/60000 (57%)]\tLoss: 0.069245\n",
      "Train Epoch: 1 [38272/60000 (64%)]\tLoss: 0.028018\n",
      "Train Epoch: 1 [42112/60000 (70%)]\tLoss: 0.113902\n",
      "Train Epoch: 1 [45952/60000 (77%)]\tLoss: 0.152811\n",
      "Train Epoch: 1 [49792/60000 (83%)]\tLoss: 0.043378\n",
      "Train Epoch: 1 [53632/60000 (89%)]\tLoss: 0.034249\n",
      "Train Epoch: 1 [57472/60000 (96%)]\tLoss: 0.027708\n",
      "\n",
      "Test set: Average loss: 0.0592, Accuracy: 9816/10000 (98%)\n",
      "\n",
      "Train Epoch: 2 [3712/60000 (6%)]\tLoss: 0.030008\n",
      "Train Epoch: 2 [7552/60000 (13%)]\tLoss: 0.073177\n",
      "Train Epoch: 2 [11392/60000 (19%)]\tLoss: 0.034247\n",
      "Train Epoch: 2 [15232/60000 (25%)]\tLoss: 0.020655\n",
      "Train Epoch: 2 [19072/60000 (32%)]\tLoss: 0.011305\n",
      "Train Epoch: 2 [22912/60000 (38%)]\tLoss: 0.107350\n",
      "Train Epoch: 2 [26752/60000 (45%)]\tLoss: 0.008845\n",
      "Train Epoch: 2 [30592/60000 (51%)]\tLoss: 0.056150\n",
      "Train Epoch: 2 [34432/60000 (57%)]\tLoss: 0.101928\n",
      "Train Epoch: 2 [38272/60000 (64%)]\tLoss: 0.033357\n",
      "Train Epoch: 2 [42112/60000 (70%)]\tLoss: 0.029293\n",
      "Train Epoch: 2 [45952/60000 (77%)]\tLoss: 0.080681\n",
      "Train Epoch: 2 [49792/60000 (83%)]\tLoss: 0.057588\n",
      "Train Epoch: 2 [53632/60000 (89%)]\tLoss: 0.027284\n",
      "Train Epoch: 2 [57472/60000 (96%)]\tLoss: 0.024483\n",
      "\n",
      "Test set: Average loss: 0.0427, Accuracy: 9850/10000 (98%)\n",
      "\n",
      "Train Epoch: 3 [3712/60000 (6%)]\tLoss: 0.030582\n",
      "Train Epoch: 3 [7552/60000 (13%)]\tLoss: 0.021116\n",
      "Train Epoch: 3 [11392/60000 (19%)]\tLoss: 0.015285\n",
      "Train Epoch: 3 [15232/60000 (25%)]\tLoss: 0.010889\n",
      "Train Epoch: 3 [19072/60000 (32%)]\tLoss: 0.058446\n",
      "Train Epoch: 3 [22912/60000 (38%)]\tLoss: 0.023199\n",
      "Train Epoch: 3 [26752/60000 (45%)]\tLoss: 0.064135\n",
      "Train Epoch: 3 [30592/60000 (51%)]\tLoss: 0.041529\n",
      "Train Epoch: 3 [34432/60000 (57%)]\tLoss: 0.005936\n",
      "Train Epoch: 3 [38272/60000 (64%)]\tLoss: 0.022235\n",
      "Train Epoch: 3 [42112/60000 (70%)]\tLoss: 0.060457\n",
      "Train Epoch: 3 [45952/60000 (77%)]\tLoss: 0.027748\n",
      "Train Epoch: 3 [49792/60000 (83%)]\tLoss: 0.044115\n",
      "Train Epoch: 3 [53632/60000 (89%)]\tLoss: 0.064021\n",
      "Train Epoch: 3 [57472/60000 (96%)]\tLoss: 0.029481\n",
      "\n",
      "Test set: Average loss: 0.0383, Accuracy: 9875/10000 (99%)\n",
      "\n",
      "Train Epoch: 4 [3712/60000 (6%)]\tLoss: 0.017325\n",
      "Train Epoch: 4 [7552/60000 (13%)]\tLoss: 0.094829\n",
      "Train Epoch: 4 [11392/60000 (19%)]\tLoss: 0.028541\n",
      "Train Epoch: 4 [15232/60000 (25%)]\tLoss: 0.040322\n",
      "Train Epoch: 4 [19072/60000 (32%)]\tLoss: 0.028784\n",
      "Train Epoch: 4 [22912/60000 (38%)]\tLoss: 0.011565\n",
      "Train Epoch: 4 [26752/60000 (45%)]\tLoss: 0.034795\n",
      "Train Epoch: 4 [30592/60000 (51%)]\tLoss: 0.015109\n",
      "Train Epoch: 4 [34432/60000 (57%)]\tLoss: 0.011868\n",
      "Train Epoch: 4 [38272/60000 (64%)]\tLoss: 0.027004\n",
      "Train Epoch: 4 [42112/60000 (70%)]\tLoss: 0.025819\n",
      "Train Epoch: 4 [45952/60000 (77%)]\tLoss: 0.027624\n",
      "Train Epoch: 4 [49792/60000 (83%)]\tLoss: 0.007789\n",
      "Train Epoch: 4 [53632/60000 (89%)]\tLoss: 0.013092\n",
      "Train Epoch: 4 [57472/60000 (96%)]\tLoss: 0.012168\n",
      "\n",
      "Test set: Average loss: 0.0387, Accuracy: 9879/10000 (99%)\n",
      "\n",
      "Train Epoch: 5 [3712/60000 (6%)]\tLoss: 0.004407\n",
      "Train Epoch: 5 [7552/60000 (13%)]\tLoss: 0.000964\n",
      "Train Epoch: 5 [11392/60000 (19%)]\tLoss: 0.003783\n",
      "Train Epoch: 5 [15232/60000 (25%)]\tLoss: 0.003662\n",
      "Train Epoch: 5 [19072/60000 (32%)]\tLoss: 0.006039\n",
      "Train Epoch: 5 [22912/60000 (38%)]\tLoss: 0.005501\n",
      "Train Epoch: 5 [26752/60000 (45%)]\tLoss: 0.001342\n",
      "Train Epoch: 5 [30592/60000 (51%)]\tLoss: 0.027778\n",
      "Train Epoch: 5 [34432/60000 (57%)]\tLoss: 0.003663\n",
      "Train Epoch: 5 [38272/60000 (64%)]\tLoss: 0.027654\n",
      "Train Epoch: 5 [42112/60000 (70%)]\tLoss: 0.075725\n",
      "Train Epoch: 5 [45952/60000 (77%)]\tLoss: 0.020766\n",
      "Train Epoch: 5 [49792/60000 (83%)]\tLoss: 0.015865\n",
      "Train Epoch: 5 [53632/60000 (89%)]\tLoss: 0.006836\n",
      "Train Epoch: 5 [57472/60000 (96%)]\tLoss: 0.008677\n",
      "\n",
      "Test set: Average loss: 0.0351, Accuracy: 9885/10000 (99%)\n",
      "\n",
      "Train Epoch: 6 [3712/60000 (6%)]\tLoss: 0.001462\n",
      "Train Epoch: 6 [7552/60000 (13%)]\tLoss: 0.019126\n",
      "Train Epoch: 6 [11392/60000 (19%)]\tLoss: 0.000858\n",
      "Train Epoch: 6 [15232/60000 (25%)]\tLoss: 0.000574\n",
      "Train Epoch: 6 [19072/60000 (32%)]\tLoss: 0.002501\n",
      "Train Epoch: 6 [22912/60000 (38%)]\tLoss: 0.023482\n",
      "Train Epoch: 6 [26752/60000 (45%)]\tLoss: 0.034580\n",
      "Train Epoch: 6 [30592/60000 (51%)]\tLoss: 0.015577\n",
      "Train Epoch: 6 [34432/60000 (57%)]\tLoss: 0.030232\n",
      "Train Epoch: 6 [38272/60000 (64%)]\tLoss: 0.001412\n",
      "Train Epoch: 6 [42112/60000 (70%)]\tLoss: 0.016040\n",
      "Train Epoch: 6 [45952/60000 (77%)]\tLoss: 0.021304\n",
      "Train Epoch: 6 [49792/60000 (83%)]\tLoss: 0.004203\n",
      "Train Epoch: 6 [53632/60000 (89%)]\tLoss: 0.011303\n",
      "Train Epoch: 6 [57472/60000 (96%)]\tLoss: 0.018010\n",
      "\n",
      "Test set: Average loss: 0.0403, Accuracy: 9876/10000 (99%)\n",
      "\n",
      "Train Epoch: 7 [3712/60000 (6%)]\tLoss: 0.008855\n",
      "Train Epoch: 7 [7552/60000 (13%)]\tLoss: 0.004648\n",
      "Train Epoch: 7 [11392/60000 (19%)]\tLoss: 0.007359\n",
      "Train Epoch: 7 [15232/60000 (25%)]\tLoss: 0.060205\n",
      "Train Epoch: 7 [19072/60000 (32%)]\tLoss: 0.014443\n",
      "Train Epoch: 7 [22912/60000 (38%)]\tLoss: 0.000825\n",
      "Train Epoch: 7 [26752/60000 (45%)]\tLoss: 0.011091\n",
      "Train Epoch: 7 [30592/60000 (51%)]\tLoss: 0.014369\n",
      "Train Epoch: 7 [34432/60000 (57%)]\tLoss: 0.011674\n",
      "Train Epoch: 7 [38272/60000 (64%)]\tLoss: 0.064625\n",
      "Train Epoch: 7 [42112/60000 (70%)]\tLoss: 0.002050\n",
      "Train Epoch: 7 [45952/60000 (77%)]\tLoss: 0.023744\n",
      "Train Epoch: 7 [49792/60000 (83%)]\tLoss: 0.015316\n",
      "Train Epoch: 7 [53632/60000 (89%)]\tLoss: 0.003400\n",
      "Train Epoch: 7 [57472/60000 (96%)]\tLoss: 0.003160\n",
      "\n",
      "Test set: Average loss: 0.0333, Accuracy: 9897/10000 (99%)\n",
      "\n",
      "Train Epoch: 8 [3712/60000 (6%)]\tLoss: 0.007285\n",
      "Train Epoch: 8 [7552/60000 (13%)]\tLoss: 0.001335\n",
      "Train Epoch: 8 [11392/60000 (19%)]\tLoss: 0.042151\n",
      "Train Epoch: 8 [15232/60000 (25%)]\tLoss: 0.003355\n",
      "Train Epoch: 8 [19072/60000 (32%)]\tLoss: 0.001365\n",
      "Train Epoch: 8 [22912/60000 (38%)]\tLoss: 0.009761\n",
      "Train Epoch: 8 [26752/60000 (45%)]\tLoss: 0.016807\n",
      "Train Epoch: 8 [30592/60000 (51%)]\tLoss: 0.003258\n",
      "Train Epoch: 8 [34432/60000 (57%)]\tLoss: 0.003668\n",
      "Train Epoch: 8 [38272/60000 (64%)]\tLoss: 0.011211\n",
      "Train Epoch: 8 [42112/60000 (70%)]\tLoss: 0.000558\n",
      "Train Epoch: 8 [45952/60000 (77%)]\tLoss: 0.018294\n",
      "Train Epoch: 8 [49792/60000 (83%)]\tLoss: 0.007154\n",
      "Train Epoch: 8 [53632/60000 (89%)]\tLoss: 0.002793\n",
      "Train Epoch: 8 [57472/60000 (96%)]\tLoss: 0.009084\n",
      "\n",
      "Test set: Average loss: 0.0394, Accuracy: 9888/10000 (99%)\n",
      "\n",
      "Train Epoch: 9 [3712/60000 (6%)]\tLoss: 0.000303\n",
      "Train Epoch: 9 [7552/60000 (13%)]\tLoss: 0.007073\n",
      "Train Epoch: 9 [11392/60000 (19%)]\tLoss: 0.000249\n",
      "Train Epoch: 9 [15232/60000 (25%)]\tLoss: 0.011418\n",
      "Train Epoch: 9 [19072/60000 (32%)]\tLoss: 0.009821\n",
      "Train Epoch: 9 [22912/60000 (38%)]\tLoss: 0.007178\n",
      "Train Epoch: 9 [26752/60000 (45%)]\tLoss: 0.000457\n",
      "Train Epoch: 9 [30592/60000 (51%)]\tLoss: 0.001054\n",
      "Train Epoch: 9 [34432/60000 (57%)]\tLoss: 0.001431\n",
      "Train Epoch: 9 [38272/60000 (64%)]\tLoss: 0.004627\n",
      "Train Epoch: 9 [42112/60000 (70%)]\tLoss: 0.001497\n"
     ]
    }
   ],
   "source": [
    "for epoch in range(1, EPOCHS + 1):\n",
    "    with SummaryWriter(log_dir='./logs') as writer:\n",
    "\n",
    "        train(model, DEVICE, train_loader, optimizer, epoch,writer)\n",
    "        test(model, DEVICE, test_loader,epoch,writer)"
   ]
  },
  {
   "cell_type": "markdown",
   "metadata": {},
   "source": [
    "我们看一下结果，准确率99%，没问题"
   ]
  },
  {
   "cell_type": "markdown",
   "metadata": {},
   "source": [
    "如果你的模型连MNIST都搞不定，那么你的模型没有任何的价值\n",
    "\n",
    "即使你的模型搞定了MNIST，你的模型也可能没有任何的价值\n",
    "\n",
    "MNIST是一个很简单的数据集，由于它的局限性只能作为研究用途，对实际应用带来的价值非常有限。但是通过这个例子，我们可以完全了解一个实际项目的工作流程\n",
    "\n",
    "我们找到数据集，对数据做预处理，定义我们的模型，调整超参数，测试训练，再通过训练结果对超参数进行调整或者对模型进行调整。\n",
    "\n",
    "并且通过这个实战我们已经有了一个很好的模板，以后的项目都可以以这个模板为样例"
   ]
  },
  {
   "cell_type": "code",
   "execution_count": null,
   "metadata": {},
   "outputs": [],
   "source": []
  }
 ],
 "metadata": {
  "kernelspec": {
   "display_name": "Python 3",
   "language": "python",
   "name": "python3"
  },
  "language_info": {
   "codemirror_mode": {
    "name": "ipython",
    "version": 3
   },
   "file_extension": ".py",
   "mimetype": "text/x-python",
   "name": "python",
   "nbconvert_exporter": "python",
   "pygments_lexer": "ipython3",
   "version": "3.6.8"
  },
  "pycharm": {
   "stem_cell": {
    "cell_type": "raw",
    "metadata": {
     "collapsed": false
    },
    "source": []
   }
  }
 },
 "nbformat": 4,
 "nbformat_minor": 4
}
