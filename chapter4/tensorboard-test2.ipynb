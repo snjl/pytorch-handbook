{
 "cells": [
  {
   "cell_type": "code",
   "execution_count": 12,
   "metadata": {},
   "outputs": [
    {
     "name": "stdout",
     "output_type": "stream",
     "text": [
      "tensor([133.3333])\n",
      "tensor([88.8889])\n",
      "tensor([59.2593])\n",
      "tensor([39.5062])\n",
      "tensor([26.3374])\n",
      "tensor([17.5583])\n",
      "tensor([11.7055])\n",
      "tensor([7.8037])\n",
      "tensor([5.2025])\n",
      "tensor([3.4683])\n",
      "tensor([2.3122])\n",
      "tensor([1.5415])\n",
      "tensor([1.0276])\n",
      "tensor([0.6851])\n",
      "tensor([0.4567])\n",
      "tensor([0.3045])\n",
      "tensor([0.2030])\n",
      "tensor([0.1353])\n",
      "tensor([0.0902])\n",
      "tensor([0.0601])\n",
      "tensor([0.0401])\n",
      "tensor([0.0267])\n",
      "tensor([0.0178])\n",
      "tensor([0.0119])\n",
      "tensor([0.0079])\n",
      "tensor([0.0053])\n",
      "tensor([0.0035])\n",
      "tensor([0.0023])\n",
      "tensor([0.0016])\n",
      "tensor([0.0010])\n",
      "tensor([0.0007])\n",
      "tensor([0.0005])\n",
      "tensor([0.0003])\n",
      "tensor([0.0002])\n",
      "tensor([0.0001])\n",
      "tensor([9.1568e-05])\n",
      "tensor([6.1045e-05])\n",
      "tensor([4.0697e-05])\n",
      "tensor([2.7131e-05])\n",
      "tensor([1.8088e-05])\n",
      "tensor([1.2058e-05])\n",
      "tensor([8.0389e-06])\n",
      "tensor([5.3593e-06])\n",
      "tensor([3.5728e-06])\n",
      "tensor([2.3819e-06])\n",
      "tensor([1.5879e-06])\n",
      "tensor([1.0586e-06])\n",
      "tensor([7.0575e-07])\n",
      "tensor([4.7050e-07])\n",
      "tensor([3.1367e-07])\n",
      "tensor([2.0911e-07])\n",
      "tensor([1.3941e-07])\n",
      "tensor([9.2938e-08])\n",
      "tensor([6.1959e-08])\n",
      "tensor([4.1306e-08])\n",
      "tensor([2.7537e-08])\n",
      "tensor([1.8358e-08])\n",
      "tensor([1.2239e-08])\n",
      "tensor([8.1592e-09])\n",
      "tensor([5.4394e-09])\n",
      "tensor([3.6263e-09])\n",
      "tensor([2.4175e-09])\n",
      "tensor([1.6117e-09])\n",
      "tensor([1.0745e-09])\n",
      "tensor([7.1631e-10])\n",
      "tensor([4.7754e-10])\n",
      "tensor([3.1836e-10])\n",
      "tensor([2.1224e-10])\n",
      "tensor([1.4149e-10])\n",
      "tensor([9.4328e-11])\n",
      "tensor([6.2885e-11])\n",
      "tensor([4.1924e-11])\n",
      "tensor([2.7949e-11])\n",
      "tensor([1.8633e-11])\n",
      "tensor([1.2422e-11])\n",
      "tensor([8.2812e-12])\n",
      "tensor([5.5208e-12])\n",
      "tensor([3.6805e-12])\n",
      "tensor([2.4537e-12])\n",
      "tensor([1.6358e-12])\n",
      "tensor([1.0905e-12])\n",
      "tensor([7.2702e-13])\n",
      "tensor([4.8468e-13])\n",
      "tensor([3.2312e-13])\n",
      "tensor([2.1541e-13])\n",
      "tensor([1.4361e-13])\n",
      "tensor([9.5739e-14])\n",
      "tensor([6.3826e-14])\n",
      "tensor([4.2551e-14])\n",
      "tensor([2.8367e-14])\n",
      "tensor([1.8911e-14])\n",
      "tensor([1.2608e-14])\n",
      "tensor([8.4051e-15])\n",
      "tensor([5.6034e-15])\n",
      "tensor([3.7356e-15])\n",
      "tensor([2.4904e-15])\n",
      "tensor([1.6603e-15])\n",
      "tensor([1.1068e-15])\n",
      "tensor([7.3790e-16])\n",
      "tensor([4.9193e-16])\n"
     ]
    }
   ],
   "source": [
    "import torch\n",
    "from tensorboardX import SummaryWriter\n",
    "\n",
    "writer = SummaryWriter(log_dir='./logs')\n",
    "x = torch.FloatTensor([300])\n",
    "y = torch.FloatTensor([500])\n",
    "\n",
    "for epoch in range(100):\n",
    "    x /= 1.5\n",
    "    y /= 1.5\n",
    "    loss = y - x\n",
    "    print(loss)\n",
    "    writer.add_histogram('zz/x', x, epoch)\n",
    "    writer.add_histogram('zz/y', y, epoch)\n",
    "    writer.add_scalar('data/x', x, epoch)\n",
    "    writer.add_scalar('data/y', y, epoch)\n",
    "    writer.add_scalar('data./loss', loss, epoch)\n",
    "    writer.add_scalars('data/scalar_group', {'x': x,\n",
    "                                             'y': y,\n",
    "                                             'loss': loss}, epoch)\n",
    "    writer.add_text('zz/text', 'zz: this is epoch ' + str(epoch), epoch)\n",
    "\n",
    "# export scalar data to JSON for external processing\n",
    "writer.export_scalars_to_json(\"./test.json\")\n",
    "writer.close()"
   ]
  },
  {
   "cell_type": "code",
   "execution_count": 5,
   "metadata": {},
   "outputs": [],
   "source": [
    "x = torch.FloatTensor([100])"
   ]
  },
  {
   "cell_type": "code",
   "execution_count": 13,
   "metadata": {},
   "outputs": [],
   "source": [
    "import math"
   ]
  },
  {
   "cell_type": "code",
   "execution_count": 14,
   "metadata": {},
   "outputs": [
    {
     "data": {
      "text/plain": [
       "0.9092974268256817"
      ]
     },
     "execution_count": 14,
     "metadata": {},
     "output_type": "execute_result"
    }
   ],
   "source": [
    "math.sin(2)"
   ]
  },
  {
   "cell_type": "code",
   "execution_count": 19,
   "metadata": {},
   "outputs": [],
   "source": [
    "for x in range(100):\n",
    "    y = math.sin(x / 10)\n",
    "    writer.add_scalar('sin2/x',x,x)\n",
    "    writer.add_scalar('sin2/y',y,x)\n"
   ]
  },
  {
   "cell_type": "code",
   "execution_count": null,
   "metadata": {},
   "outputs": [],
   "source": []
  }
 ],
 "metadata": {
  "kernelspec": {
   "display_name": "Python 3",
   "language": "python",
   "name": "python3"
  },
  "language_info": {
   "codemirror_mode": {
    "name": "ipython",
    "version": 3
   },
   "file_extension": ".py",
   "mimetype": "text/x-python",
   "name": "python",
   "nbconvert_exporter": "python",
   "pygments_lexer": "ipython3",
   "version": "3.6.8"
  }
 },
 "nbformat": 4,
 "nbformat_minor": 4
}
