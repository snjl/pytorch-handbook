{
 "cells": [
  {
   "cell_type": "code",
   "execution_count": 1,
   "metadata": {
    "pycharm": {
     "is_executing": false
    }
   },
   "outputs": [
    {
     "data": {
      "text/plain": "<torch._C.Generator at 0x222670a5f90>"
     },
     "metadata": {},
     "output_type": "execute_result",
     "execution_count": 1
    }
   ],
   "source": [
    "import torch\n",
    "import torch.utils.data as Data\n",
    "\n",
    "torch.manual_seed(1)    # reproducible"
   ]
  },
  {
   "cell_type": "code",
   "execution_count": 2,
   "metadata": {
    "collapsed": true,
    "pycharm": {
     "is_executing": false
    }
   },
   "outputs": [],
   "source": [
    "BATCH_SIZE = 5\n",
    "# BATCH_SIZE = 8"
   ]
  },
  {
   "cell_type": "code",
   "execution_count": 3,
   "metadata": {
    "collapsed": true,
    "pycharm": {
     "is_executing": false
    }
   },
   "outputs": [],
   "source": [
    "x = torch.linspace(1, 10, 10)       # this is x data (torch tensor)\n",
    "y = torch.linspace(10, 1, 10)       # this is y data (torch tensor)\n"
   ]
  },
  {
   "cell_type": "code",
   "execution_count": 4,
   "metadata": {
    "collapsed": true,
    "pycharm": {
     "is_executing": false
    }
   },
   "outputs": [],
   "source": [
    "# x表示data_tensor,y表示target_tensor\n",
    "torch_dataset = Data.TensorDataset(x, y)\n",
    "#\n",
    "loader = Data.DataLoader(\n",
    "    dataset=torch_dataset,      # torch TensorDataset format\n",
    "    batch_size=BATCH_SIZE,      # mini batch size\n",
    "    shuffle=True,               # random shuffle for training\n",
    "    num_workers=2,              # subprocesses for loading data\n",
    ")"
   ]
  },
  {
   "cell_type": "code",
   "execution_count": 5,
   "metadata": {
    "pycharm": {
     "is_executing": false
    }
   },
   "outputs": [
    {
     "name": "stdout",
     "text": [
      "Epoch: ",
      " ",
      "0",
      " ",
      "| Step: ",
      " ",
      "0",
      " ",
      "| batch x: ",
      " ",
      "[ 5.  7. 10.  3.  4.]",
      " ",
      "| batch y: ",
      " ",
      "[6. 4. 1. 8. 7.]",
      "\n",
      "Epoch: ",
      " ",
      "0",
      " ",
      "| Step: ",
      " ",
      "1",
      " ",
      "| batch x: ",
      " ",
      "[2. 1. 8. 9. 6.]",
      " ",
      "| batch y: ",
      " ",
      "[ 9. 10.  3.  2.  5.]",
      "\n",
      "Epoch: ",
      " ",
      "1",
      " ",
      "| Step: ",
      " ",
      "0",
      " ",
      "| batch x: ",
      " ",
      "[ 4.  6.  7. 10.  8.]",
      " ",
      "| batch y: ",
      " ",
      "[7. 5. 4. 1. 3.]",
      "\n",
      "Epoch: ",
      " ",
      "1",
      " ",
      "| Step: ",
      " ",
      "1",
      " ",
      "| batch x: ",
      " ",
      "[5. 3. 2. 1. 9.]",
      " ",
      "| batch y: ",
      " ",
      "[ 6.  8.  9. 10.  2.]",
      "\n",
      "Epoch: ",
      " ",
      "2",
      " ",
      "| Step: ",
      " ",
      "0",
      " ",
      "| batch x: ",
      " ",
      "[ 4.  2.  5.  6. 10.]",
      " ",
      "| batch y: ",
      " ",
      "[7. 9. 6. 5. 1.]",
      "\n",
      "Epoch: ",
      " ",
      "2",
      " ",
      "| Step: ",
      " ",
      "1",
      " ",
      "| batch x: ",
      " ",
      "[3. 9. 1. 8. 7.]",
      " ",
      "| batch y: ",
      " ",
      "[ 8.  2. 10.  3.  4.]",
      "\n"
     ],
     "output_type": "stream"
    }
   ],
   "source": [
    "def show_batch():\n",
    "    # 训练3个epoch\n",
    "    for epoch in range(3):   # train entire dataset 3 times\n",
    "        # 每次训练把所有数据拆分,每批数量为BATCH_SIZE，如果一共有n个数据，则传入n/BATCH_SIZE后结束该轮训练\n",
    "        for step, (batch_x, batch_y) in enumerate(loader):  # for each training step\n",
    "            # train your data,输出第几轮，第几步（即一个batch传入了几次数据），传入数据的x和y\n",
    "            print('Epoch: ', epoch, '| Step: ', step, '| batch x: ',\n",
    "                  batch_x.numpy(), '| batch y: ', batch_y.numpy())\n",
    "\n",
    "show_batch()"
   ]
  },
  {
   "cell_type": "markdown",
   "metadata": {},
   "source": [
    "### Suppose a different batch size that cannot be fully divided by the number of data entreis:"
   ]
  },
  {
   "cell_type": "code",
   "execution_count": 6,
   "metadata": {
    "pycharm": {
     "is_executing": false
    }
   },
   "outputs": [
    {
     "name": "stdout",
     "text": [
      "Epoch: ",
      " ",
      "0",
      " ",
      "| Step: ",
      " ",
      "0",
      " ",
      "| batch x: ",
      " ",
      "[ 4. 10.  9.  8.  7.  6.  1.  2.]",
      " ",
      "| batch y: ",
      " ",
      "[ 7.  1.  2.  3.  4.  5. 10.  9.]",
      "\n",
      "Epoch: ",
      " ",
      "0",
      " ",
      "| Step: ",
      " ",
      "1",
      " ",
      "| batch x: ",
      " ",
      "[5. 3.]",
      " ",
      "| batch y: ",
      " ",
      "[6. 8.]",
      "\n",
      "Epoch: ",
      " ",
      "1",
      " ",
      "| Step: ",
      " ",
      "0",
      " ",
      "| batch x: ",
      " ",
      "[9. 8. 4. 6. 5. 3. 7. 2.]",
      " ",
      "| batch y: ",
      " ",
      "[2. 3. 7. 5. 6. 8. 4. 9.]",
      "\n",
      "Epoch: ",
      " ",
      "1",
      " ",
      "| Step: ",
      " ",
      "1",
      " ",
      "| batch x: ",
      " ",
      "[10.  1.]",
      " ",
      "| batch y: ",
      " ",
      "[ 1. 10.]",
      "\n",
      "Epoch: ",
      " ",
      "2",
      " ",
      "| Step: ",
      " ",
      "0",
      " ",
      "| batch x: ",
      " ",
      "[ 5.  1.  3.  7.  6. 10.  9.  8.]",
      " ",
      "| batch y: ",
      " ",
      "[ 6. 10.  8.  4.  5.  1.  2.  3.]",
      "\n",
      "Epoch: ",
      " ",
      "2",
      " ",
      "| Step: ",
      " ",
      "1",
      " ",
      "| batch x: ",
      " ",
      "[2. 4.]",
      " ",
      "| batch y: ",
      " ",
      "[9. 7.]",
      "\n"
     ],
     "output_type": "stream"
    }
   ],
   "source": [
    "BATCH_SIZE = 8\n",
    "loader = Data.DataLoader(\n",
    "    dataset=torch_dataset,      # torch TensorDataset format\n",
    "    batch_size=BATCH_SIZE,      # mini batch size\n",
    "    shuffle=True,               # random shuffle for training\n",
    "    num_workers=2,              # subprocesses for loading data\n",
    ")\n",
    "show_batch()"
   ]
  },
  {
   "cell_type": "code",
   "execution_count": null,
   "metadata": {
    "collapsed": true
   },
   "outputs": [],
   "source": []
  }
 ],
 "metadata": {
  "kernelspec": {
   "display_name": "Python 3",
   "language": "python",
   "name": "python3"
  },
  "language_info": {
   "codemirror_mode": {
    "name": "ipython",
    "version": 3
   },
   "file_extension": ".py",
   "mimetype": "text/x-python",
   "name": "python",
   "nbconvert_exporter": "python",
   "pygments_lexer": "ipython3",
   "version": "3.5.2"
  },
  "pycharm": {
   "stem_cell": {
    "cell_type": "raw",
    "source": [],
    "metadata": {
     "collapsed": false
    }
   }
  }
 },
 "nbformat": 4,
 "nbformat_minor": 2
}